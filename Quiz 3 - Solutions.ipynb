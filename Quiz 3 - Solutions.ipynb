{
 "cells": [
  {
   "cell_type": "markdown",
   "metadata": {},
   "source": [
    "# T3A\n",
    "\n",
    "## Question 1:\n",
    "\n",
    "Show that if you pick three socks from a drawer containing just blue socks and black socks, you must get either a pair of blue socks or a pair of black socks.\n",
    "\n",
    "## Solution:\n",
    "\n",
    "We give a proof by contradiction. Suppose that we don’t get a pair of blue socks or a pair of black socks. Then we drew at most one of each color. This accounts for only two socks. But we are drawing three socks. Therefore our supposition that we did not get a pair of blue socks or a pair of black socks is incorrect, and our proof is complete.\n",
    "\n",
    "\n",
    "## Common mistakes\n",
    "\n",
    "- Using the result of the theorem we want to use.  \n",
    "- A lot of confusion in the proofs.  \n",
    "- Long proofs where students repeat themselves.  \n",
    "- Unclear thought process\n",
    "\n",
    "## Question 2: \n",
    "\n",
    "Suppose you wish to prove a theorem of the form “if p then q”.  \n",
    "(a) If you give a direct proof, what do you assume and what do you prove?  \n",
    "(b) If you give a proof by contraposition, what do you assume and what do you prove?  \n",
    "(c) If you give a proof by contradiction, what do you assume and what do you prove?  \n",
    "\n",
    "## Solution :\n",
    "\n",
    "(a) Assume p, prove q  \n",
    "(b) Assume ¬q, prove ¬p.  \n",
    "(c) Assume p ∧ ¬q, show that this leads to a contradiction. \n",
    "\n",
    "## Common mistakes\n",
    "\n",
    "- Long answers trying to hide something.\n",
    "- Confusing between the terms contrapositive and contradiction.\n",
    "- Unclear thought process\n",
    "\n",
    "\n"
   ]
  },
  {
   "cell_type": "markdown",
   "metadata": {},
   "source": [
    "# T3B\n",
    "\n",
    "## Question 1\n",
    "\n",
    "As show in the question pool, the error occurs in step (5), because we cannot assume, as is being done here, that the c that makes P true is the same as the c that makes Q true.\n",
    "\n",
    "## Question 2\n",
    "\n",
    "Prove $\\sqrt{3}$ is an irrational number. You may use a direct proof, a proof by contraposition or a proof by contradiction as appropriate.\n",
    "\n",
    "## Solution\n",
    "\n",
    "\n",
    "Let's suppose $\\sqrt{3}$ is a rational number  \n",
    "By definition, there are two integers $m$ and $n$ with no commons factors so that $\\sqrt{3} = \\frac{m}{n}$  \n",
    "Squaring both square gives $3 = \\frac{m^2}{n^2}$  \n",
    "Or  $3n^2 = m^2$  \n",
    "The implies that 3 divides $m^2$  \n",
    "3 is prime, therefore **3 divides $m$**  \n",
    "Let $m = 3k$ for some integer k  \n",
    "Substituting into $3n^2 = m^2$, we have $n^2 = 3k^2$  \n",
    "Which implies 3 divides $n^2$  \n",
    "3 is prime, therefore **3 divides $n$**  \n",
    "Hence both $m$ and $n$ have a common factor of 3  \n",
    "But this contradicts the supposition that $m$ and $n$ have no common factors"
   ]
  }
 ],
 "metadata": {
  "kernelspec": {
   "display_name": "Python [py_opencv_27]",
   "language": "python",
   "name": "Python [py_opencv_27]"
  },
  "language_info": {
   "codemirror_mode": {
    "name": "ipython",
    "version": 2
   },
   "file_extension": ".py",
   "mimetype": "text/x-python",
   "name": "python",
   "nbconvert_exporter": "python",
   "pygments_lexer": "ipython2",
   "version": "2.7.13"
  }
 },
 "nbformat": 4,
 "nbformat_minor": 2
}
