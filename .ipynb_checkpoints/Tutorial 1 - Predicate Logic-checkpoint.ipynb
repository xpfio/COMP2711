{
 "cells": [
  {
   "cell_type": "markdown",
   "metadata": {},
   "source": [
    "# Lecture 1 - Reminders - Propositional Logic\n",
    "\n",
    "## Definitions\n",
    "\n",
    "See slides!  \n",
    "\n",
    "---\n",
    "\n",
    "## Truth Tables\n",
    "\n",
    "Reminder key truth tables: p and q, p or q, if p then q  \n",
    "NB: Missing $p \\oplus q$ and $p \\leftrightarrow q$\n",
    "\n",
    "![alt text](tutorial1/truthtable.png \"Truth Table 1\")"
   ]
  },
  {
   "cell_type": "markdown",
   "metadata": {},
   "source": [
    "Remember that contrapositive of a proposition is **logically equivalent** to the proposition, just like $\\neg p \\lor q$\n",
    "\n",
    "![alt text](tutorial1/truthtable2.png \"Truth Table 2\")"
   ]
  },
  {
   "cell_type": "markdown",
   "metadata": {},
   "source": [
    "Remember the definitions of **tautology** and **contradiction**\n",
    "\n",
    "![alt text](tutorial1/truthtable3.png \"Truth Table 3\")\n"
   ]
  },
  {
   "cell_type": "markdown",
   "metadata": {},
   "source": [
    "## Real Life Examples\n",
    "\n",
    "Logic Gates in Circuit Diagrams are using transistors, and operate as logic operators.\n",
    "\n",
    "![alt text](tutorial1/circuitdiagram.png \"Circuit Diagram\")\n",
    "\n",
    "Video Source : [https://www.youtube.com/watch?v=JhHMJCUmq28](https://www.youtube.com/watch?v=JhHMJCUmq28)  \n",
    "Kurzgesagt – In a Nutshell  \n",
    "Quantum Computers Explained – Limits of Human Technology\n",
    "\n",
    "---\n",
    "Using different logic gates, we can build additions operators  \n",
    "![alt text](tutorial1/addition.png \"Addition\")\n",
    "\n",
    "---\n",
    "And from addition we can build multiplication. Look, a first computer!  \n",
    "![alt text](tutorial1/multiplication.png \"Multiplication\")\n",
    "\n",
    "\n"
   ]
  },
  {
   "cell_type": "code",
   "execution_count": null,
   "metadata": {
    "collapsed": false
   },
   "outputs": [],
   "source": [
    "# In code\n",
    "False"
   ]
  },
  {
   "cell_type": "code",
   "execution_count": null,
   "metadata": {
    "collapsed": false
   },
   "outputs": [],
   "source": [
    "True"
   ]
  },
  {
   "cell_type": "code",
   "execution_count": null,
   "metadata": {
    "collapsed": false
   },
   "outputs": [],
   "source": [
    "True or False"
   ]
  },
  {
   "cell_type": "code",
   "execution_count": null,
   "metadata": {
    "collapsed": false
   },
   "outputs": [],
   "source": [
    "True and False"
   ]
  },
  {
   "cell_type": "code",
   "execution_count": null,
   "metadata": {
    "collapsed": false
   },
   "outputs": [],
   "source": []
  },
  {
   "cell_type": "markdown",
   "metadata": {},
   "source": [
    "## Propositional Equivalences\n",
    "\n",
    "- Identity laws\n",
    "- Domination laws\n",
    "- Idempotent laws\n",
    "- Double negation laws (not not, who's there?)\n",
    "- Commutative laws\n",
    "- Associative laws\n",
    "- Distributive laws\n",
    "- **De Morgan's law**\n",
    "- Absorption law\n",
    "- Negation law\n",
    "- **Laws involving Conditional Statements**\n",
    "- **Laws involving Biconditional Statements**"
   ]
  },
  {
   "cell_type": "code",
   "execution_count": null,
   "metadata": {
    "collapsed": true
   },
   "outputs": [],
   "source": []
  },
  {
   "cell_type": "code",
   "execution_count": null,
   "metadata": {
    "collapsed": true
   },
   "outputs": [],
   "source": []
  },
  {
   "cell_type": "code",
   "execution_count": null,
   "metadata": {
    "collapsed": true
   },
   "outputs": [],
   "source": []
  },
  {
   "cell_type": "markdown",
   "metadata": {},
   "source": [
    "# Lecture 2 - Reminders - Predicate Logic"
   ]
  },
  {
   "cell_type": "markdown",
   "metadata": {},
   "source": [
    "## Content\n",
    "\n",
    "- Predicates\n",
    "- Quantifiers\n",
    "- Quantifiers with Restricted domains\n",
    "- Logical Equivalences involving Quantifiers \n",
    "- Negating Quantified Expressions\n",
    "- Nested Quantifiers"
   ]
  },
  {
   "cell_type": "code",
   "execution_count": 6,
   "metadata": {
    "collapsed": false
   },
   "outputs": [
    {
     "data": {
      "text/plain": [
       "False"
      ]
     },
     "execution_count": 6,
     "metadata": {},
     "output_type": "execute_result"
    }
   ],
   "source": [
    "# Real Life Example\n",
    "all([True,False,True,True,True,True,True,True])"
   ]
  },
  {
   "cell_type": "code",
   "execution_count": 7,
   "metadata": {
    "collapsed": false
   },
   "outputs": [
    {
     "data": {
      "text/plain": [
       "False"
      ]
     },
     "execution_count": 7,
     "metadata": {},
     "output_type": "execute_result"
    }
   ],
   "source": [
    "def all(iterable):\n",
    "    for element in iterable:\n",
    "        if not element:\n",
    "            return False\n",
    "    return True\n",
    "\n",
    "all([True,False,True,True,True,True,True,True])"
   ]
  },
  {
   "cell_type": "code",
   "execution_count": 8,
   "metadata": {
    "collapsed": false
   },
   "outputs": [
    {
     "data": {
      "text/plain": [
       "True"
      ]
     },
     "execution_count": 8,
     "metadata": {},
     "output_type": "execute_result"
    }
   ],
   "source": [
    "all([True,True,True,True,True,True,True,True])"
   ]
  },
  {
   "cell_type": "code",
   "execution_count": 9,
   "metadata": {
    "collapsed": false
   },
   "outputs": [
    {
     "data": {
      "text/plain": [
       "True"
      ]
     },
     "execution_count": 9,
     "metadata": {},
     "output_type": "execute_result"
    }
   ],
   "source": [
    "any([False,False,True])"
   ]
  },
  {
   "cell_type": "code",
   "execution_count": 10,
   "metadata": {
    "collapsed": false
   },
   "outputs": [
    {
     "data": {
      "text/plain": [
       "False"
      ]
     },
     "execution_count": 10,
     "metadata": {},
     "output_type": "execute_result"
    }
   ],
   "source": [
    "any([False,False,False])"
   ]
  },
  {
   "cell_type": "markdown",
   "metadata": {},
   "source": [
    "---\n",
    "Example Javascript:\n",
    "```javascript\n",
    "var array = [1, 2, 3]\n",
    "array.every(d => d < 4) //true\n",
    "array.some(d => d >= 3) //true\n",
    "```\n"
   ]
  },
  {
   "cell_type": "code",
   "execution_count": null,
   "metadata": {
    "collapsed": true
   },
   "outputs": [],
   "source": []
  }
 ],
 "metadata": {
  "kernelspec": {
   "display_name": "Python [py27]",
   "language": "python",
   "name": "Python [py27]"
  },
  "language_info": {
   "codemirror_mode": {
    "name": "ipython",
    "version": 2
   },
   "file_extension": ".py",
   "mimetype": "text/x-python",
   "name": "python",
   "nbconvert_exporter": "python",
   "pygments_lexer": "ipython2",
   "version": "2.7.13"
  }
 },
 "nbformat": 4,
 "nbformat_minor": 2
}
